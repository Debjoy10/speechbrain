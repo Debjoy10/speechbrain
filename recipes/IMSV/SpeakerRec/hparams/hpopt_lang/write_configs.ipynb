{
 "cells": [
  {
   "cell_type": "code",
   "execution_count": 1,
   "metadata": {},
   "outputs": [],
   "source": [
    "import numpy as np\n",
    "\n",
    "def format_float(num):\n",
    "    return np.format_float_positional(num, trim='-')"
   ]
  },
  {
   "cell_type": "code",
   "execution_count": 2,
   "id": "dfec1adf",
   "metadata": {},
   "outputs": [],
   "source": [
    "import copy"
   ]
  },
  {
   "cell_type": "code",
   "execution_count": 3,
   "id": "20ec1762",
   "metadata": {},
   "outputs": [],
   "source": [
    "with open('train_ecapa_tdnn_ML_pretrained.yaml') as f:\n",
    "    config = f.read()"
   ]
  },
  {
   "cell_type": "code",
   "execution_count": 4,
   "id": "35b1f2e1",
   "metadata": {},
   "outputs": [],
   "source": [
    "run_params = {\n",
    "    'lr': [0.01, 0.001, 0.0001, 0.00001],\n",
    "    'step_size': [15000, 30000, 45000, 60000],\n",
    "}"
   ]
  },
  {
   "cell_type": "code",
   "execution_count": 5,
   "id": "226b5c9a",
   "metadata": {},
   "outputs": [],
   "source": [
    "og_lines = [\n",
    "    'lr: 0.001\\n',\n",
    "    'step_size: 30000\\n',\n",
    "]\n",
    "\n",
    "new_lines = [\n",
    "    'lr: {}\\n',\n",
    "    'step_size: {}\\n',\n",
    "]\n",
    "\n",
    "params = ['lr', 'step_size']"
   ]
  },
  {
   "cell_type": "code",
   "execution_count": 6,
   "id": "50fc9800",
   "metadata": {},
   "outputs": [],
   "source": [
    "fnames = []"
   ]
  },
  {
   "cell_type": "code",
   "execution_count": 7,
   "id": "94ce2c19",
   "metadata": {},
   "outputs": [],
   "source": [
    "idx = 0\n",
    "for lr in run_params['lr']:\n",
    "    for step_size in run_params['step_size']:\n",
    "        newconfig = copy.deepcopy(config)\n",
    "        for i, (x, y) in enumerate(zip(og_lines, new_lines)):\n",
    "            m = copy.deepcopy(x)\n",
    "            n = copy.deepcopy(y)\n",
    "            n = n.format(format_float(eval(params[i])))\n",
    "            newconfig = newconfig.replace(m, n)\n",
    "            \n",
    "            fname = 'train_ecapa_tdnn_ML_pretrained_{0:0=2d}.yaml'.format(idx)\n",
    "            with open(fname, 'w') as f:\n",
    "                f.write(newconfig)\n",
    "            \n",
    "        idx += 1\n",
    "        fnames.append(fname)"
   ]
  },
  {
   "cell_type": "code",
   "execution_count": 8,
   "id": "62854e8c",
   "metadata": {},
   "outputs": [],
   "source": [
    "x = ['CUDA_VISIBLE_DEVICES=\"0\" python3 train_speaker_embeddings.py hparams/hpopt_lang/{}\\n'.format(f) for f in fnames]\n",
    "y = 'rm -rf ../../../../IMSV/results/ecapa_augment_16k_pretrained_HPOPT_ML/\\n'\n",
    "a = []\n",
    "for xi in x:\n",
    "    a.append(xi)\n",
    "    a.append(y)"
   ]
  },
  {
   "cell_type": "code",
   "execution_count": 9,
   "id": "5b75bcb0",
   "metadata": {},
   "outputs": [],
   "source": [
    "with open('run.sh', 'w') as f:\n",
    "    f.writelines(a)"
   ]
  },
  {
   "cell_type": "code",
   "execution_count": null,
   "metadata": {},
   "outputs": [],
   "source": []
  }
 ],
 "metadata": {
  "kernelspec": {
   "display_name": "Python 3",
   "language": "python",
   "name": "python3"
  },
  "language_info": {
   "codemirror_mode": {
    "name": "ipython",
    "version": 3
   },
   "file_extension": ".py",
   "mimetype": "text/x-python",
   "name": "python",
   "nbconvert_exporter": "python",
   "pygments_lexer": "ipython3",
   "version": "3.8.10"
  }
 },
 "nbformat": 4,
 "nbformat_minor": 5
}

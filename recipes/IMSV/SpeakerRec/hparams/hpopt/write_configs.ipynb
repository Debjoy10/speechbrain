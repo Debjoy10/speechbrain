{
 "cells": [
  {
   "cell_type": "code",
   "execution_count": 33,
   "id": "dfec1adf",
   "metadata": {},
   "outputs": [],
   "source": [
    "import copy"
   ]
  },
  {
   "cell_type": "code",
   "execution_count": 34,
   "id": "20ec1762",
   "metadata": {},
   "outputs": [],
   "source": [
    "with open('train_tf.yaml') as f:\n",
    "    config = f.read()"
   ]
  },
  {
   "cell_type": "code",
   "execution_count": 35,
   "id": "35b1f2e1",
   "metadata": {},
   "outputs": [],
   "source": [
    "run_params = {\n",
    "    'lr': [0.01, 0.001, 0.0001],\n",
    "    'step_size': [15000, 30000, 45000, 60000],\n",
    "}"
   ]
  },
  {
   "cell_type": "code",
   "execution_count": 36,
   "id": "226b5c9a",
   "metadata": {},
   "outputs": [],
   "source": [
    "og_lines = [\n",
    "    'lr: 0.001\\n',\n",
    "    'step_size: 30000\\n',\n",
    "]\n",
    "\n",
    "new_lines = [\n",
    "    'lr: {}\\n',\n",
    "    'step_size: {}\\n',\n",
    "]\n",
    "\n",
    "params = ['lr', 'step_size']"
   ]
  },
  {
   "cell_type": "code",
   "execution_count": 37,
   "id": "50fc9800",
   "metadata": {},
   "outputs": [],
   "source": [
    "fnames = []"
   ]
  },
  {
   "cell_type": "code",
   "execution_count": 38,
   "id": "94ce2c19",
   "metadata": {},
   "outputs": [],
   "source": [
    "idx = 0\n",
    "for lr in run_params['lr']:\n",
    "    for step_size in run_params['step_size']:\n",
    "        newconfig = copy.deepcopy(config)\n",
    "        for i, (x, y) in enumerate(zip(og_lines, new_lines)):\n",
    "            m = copy.deepcopy(x)\n",
    "            n = copy.deepcopy(y)\n",
    "            n = n.format(eval(params[i]))\n",
    "            newconfig = newconfig.replace(m, n)\n",
    "            \n",
    "            fname = 'train_tf_{0:0=2d}.yaml'.format(idx)\n",
    "            with open(fname, 'w') as f:\n",
    "                f.write(newconfig)\n",
    "            \n",
    "            idx += 1\n",
    "            fnames.append(fname)"
   ]
  },
  {
   "cell_type": "code",
   "execution_count": 39,
   "id": "62854e8c",
   "metadata": {},
   "outputs": [],
   "source": [
    "x = ['CUDA_VISIBLE_DEVICES=\"0\" python3 train_speaker_embeddings.py hparams/hpopt/{}\\n'.format(f) for f in fnames]"
   ]
  },
  {
   "cell_type": "code",
   "execution_count": 40,
   "id": "5b75bcb0",
   "metadata": {},
   "outputs": [],
   "source": [
    "with open('run.sh', 'w') as f:\n",
    "    f.writelines(x)"
   ]
  },
  {
   "cell_type": "code",
   "execution_count": null,
   "id": "15c4880f",
   "metadata": {},
   "outputs": [],
   "source": []
  }
 ],
 "metadata": {
  "kernelspec": {
   "display_name": "Python 3 (ipykernel)",
   "language": "python",
   "name": "python3"
  },
  "language_info": {
   "codemirror_mode": {
    "name": "ipython",
    "version": 3
   },
   "file_extension": ".py",
   "mimetype": "text/x-python",
   "name": "python",
   "nbconvert_exporter": "python",
   "pygments_lexer": "ipython3",
   "version": "3.8.15"
  }
 },
 "nbformat": 4,
 "nbformat_minor": 5
}

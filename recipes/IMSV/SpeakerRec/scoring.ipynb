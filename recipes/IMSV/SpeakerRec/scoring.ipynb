{
 "cells": [
  {
   "cell_type": "markdown",
   "metadata": {},
   "source": [
    "# Scoring Utils"
   ]
  },
  {
   "cell_type": "markdown",
   "metadata": {},
   "source": [
    "##### Get Metrics from scores.txt files saved in verification run"
   ]
  },
  {
   "cell_type": "code",
   "execution_count": 5,
   "metadata": {
    "vscode": {
     "languageId": "python"
    }
   },
   "outputs": [],
   "source": [
    "import warnings\n",
    "warnings.filterwarnings('ignore')"
   ]
  },
  {
   "cell_type": "code",
   "execution_count": 6,
   "metadata": {
    "vscode": {
     "languageId": "python"
    }
   },
   "outputs": [
    {
     "name": "stdout",
     "output_type": "stream",
     "text": [
      "Number of verification pairs = 150\n"
     ]
    }
   ],
   "source": [
    "res = '/media/absp/4E897AE46CE3ABFA/IMSV/results/results/imsv/speaker_verification_ecapa_big/scores.txt'\n",
    "\n",
    "with open(res) as f:\n",
    "    scores = [line.split(' ') for line in f.readlines()]\n",
    "print(\"Number of verification pairs = {}\".format(len(scores)))\n",
    "\n",
    "# Collecting positive and negative scores\n",
    "positive_scores = []\n",
    "negative_scores = []\n",
    "\n",
    "for (enrol_id, test_id, lab_pair, score) in scores:\n",
    "    if int(lab_pair) == 1:\n",
    "        positive_scores.append(float(score))\n",
    "    else:\n",
    "        negative_scores.append(float(score))\n",
    "\n",
    "import torch\n",
    "from tqdm.contrib import tqdm\n",
    "from speechbrain.utils.metric_stats import EER, minDCF"
   ]
  },
  {
   "cell_type": "code",
   "execution_count": 10,
   "metadata": {
    "vscode": {
     "languageId": "python"
    }
   },
   "outputs": [
    {
     "name": "stdout",
     "output_type": "stream",
     "text": [
      "EER(%)=0.0\n",
      "Th = 8.411\n"
     ]
    }
   ],
   "source": [
    "# EER\n",
    "eer, th = EER(torch.tensor(positive_scores), torch.tensor(negative_scores))\n",
    "print(\"EER(%)={}\".format(eer * 100))\n",
    "print(\"Th = {0:.3f}\".format(th))"
   ]
  },
  {
   "cell_type": "code",
   "execution_count": 12,
   "metadata": {
    "vscode": {
     "languageId": "python"
    }
   },
   "outputs": [
    {
     "name": "stdout",
     "output_type": "stream",
     "text": [
      "minDCF=0.0\n",
      "Th = 8.411\n"
     ]
    }
   ],
   "source": [
    "# Min-DCF\n",
    "min_dcf, th = minDCF(torch.tensor(positive_scores[:10000]), torch.tensor(negative_scores[:10000]))\n",
    "print(\"minDCF={}\".format(min_dcf * 100))\n",
    "print(\"Th = {0:.3f}\".format(th))"
   ]
  },
  {
   "cell_type": "code",
   "execution_count": null,
   "metadata": {
    "vscode": {
     "languageId": "python"
    }
   },
   "outputs": [],
   "source": []
  }
 ],
 "metadata": {
  "kernelspec": {
   "display_name": "debjoy",
   "language": "python",
   "name": "debjoy"
  }
 },
 "nbformat": 4,
 "nbformat_minor": 2
}

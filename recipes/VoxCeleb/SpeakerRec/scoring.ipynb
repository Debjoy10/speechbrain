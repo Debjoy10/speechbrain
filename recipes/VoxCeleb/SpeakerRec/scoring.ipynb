{
 "cells": [
  {
   "cell_type": "code",
   "execution_count": 2,
   "metadata": {},
   "outputs": [],
   "source": [
    "res = 'results/voxceleb1_2/speaker_verification_ecapa_big/scores.txt'"
   ]
  },
  {
   "cell_type": "code",
   "execution_count": 3,
   "metadata": {},
   "outputs": [],
   "source": [
    "with open(res) as f:\n",
    "    scores = [line.split(' ') for line in f.readlines()]"
   ]
  },
  {
   "cell_type": "code",
   "execution_count": 4,
   "metadata": {},
   "outputs": [],
   "source": [
    "positive_scores = []\n",
    "negative_scores = []\n",
    "\n",
    "for (enrol_id, test_id, lab_pair, score) in scores:\n",
    "    if int(lab_pair) == 1:\n",
    "        positive_scores.append(float(score))\n",
    "    else:\n",
    "        negative_scores.append(float(score))"
   ]
  },
  {
   "cell_type": "code",
   "execution_count": 5,
   "metadata": {},
   "outputs": [],
   "source": [
    "import torch\n",
    "from tqdm.contrib import tqdm\n",
    "from speechbrain.utils.metric_stats import EER, minDCF"
   ]
  },
  {
   "cell_type": "code",
   "execution_count": 6,
   "metadata": {},
   "outputs": [
    {
     "name": "stdout",
     "output_type": "stream",
     "text": [
      "EER(%)=1.404221123084426\n"
     ]
    }
   ],
   "source": [
    "eer, th = EER(torch.tensor(positive_scores), torch.tensor(negative_scores))\n",
    "print(\"EER(%)={}\".format(eer * 100))"
   ]
  },
  {
   "cell_type": "code",
   "execution_count": 7,
   "metadata": {},
   "outputs": [
    {
     "name": "stdout",
     "output_type": "stream",
     "text": [
      "minDCF=0.25499998591840267\n"
     ]
    }
   ],
   "source": [
    "min_dcf, th = minDCF(torch.tensor(positive_scores[:10000]), torch.tensor(negative_scores[:10000]))\n",
    "print(\"minDCF={}\".format(min_dcf * 100))"
   ]
  },
  {
   "cell_type": "code",
   "execution_count": null,
   "metadata": {},
   "outputs": [],
   "source": []
  }
 ],
 "metadata": {
  "kernelspec": {
   "display_name": "debjoy",
   "language": "python",
   "name": "debjoy"
  },
  "language_info": {
   "codemirror_mode": {
    "name": "ipython",
    "version": 3
   },
   "file_extension": ".py",
   "mimetype": "text/x-python",
   "name": "python",
   "nbconvert_exporter": "python",
   "pygments_lexer": "ipython3",
   "version": "3.9.12"
  },
  "orig_nbformat": 4
 },
 "nbformat": 4,
 "nbformat_minor": 2
}
